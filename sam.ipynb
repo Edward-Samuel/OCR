{
 "cells": [
  {
   "cell_type": "code",
   "execution_count": null,
   "metadata": {},
   "outputs": [],
   "source": [
    "from pdf2image import convert_from_path\n",
    "images = convert_from_path('sam.pdf')\n",
    "for i, image in enumerate(images):\n",
    "    image.save(f'page_{i}.png', 'PNG')\n"
   ]
  },
  {
   "cell_type": "code",
   "execution_count": null,
   "metadata": {},
   "outputs": [],
   "source": [
    "from PIL import Image\n",
    "import pytesseract as pt\n",
    "for i, image in enumerate(images):\n",
    "    text=pt.image_to_string(Image.open(f\"page_{i}.png\"))\n",
    "    print(text)"
   ]
  },
  {
   "cell_type": "code",
   "execution_count": 3,
   "metadata": {},
   "outputs": [
    {
     "name": "stdout",
     "output_type": "stream",
     "text": [
      "Extracted text from 22MAY_21CS11.pdf, page 0\n",
      "Extracted text from 22MAY_21CS11.pdf, page 1\n",
      "Extracted text from 22MAY_21CS11.pdf, page 2\n",
      "Extracted text from 23JAN_21CS11.pdf, page 0\n",
      "Extracted text from 23JAN_21CS11.pdf, page 1\n",
      "Extracted text from 23MAR_21CS11.pdf, page 0\n",
      "Extracted text from 23MAR_21CS11.pdf, page 1\n",
      "Extracted text from 23MAR_21CS11.pdf, page 2\n",
      "Text extraction complete.\n"
     ]
    }
   ],
   "source": [
    "from pdf2image import convert_from_path\n",
    "from PIL import Image\n",
    "import pytesseract as P\n",
    "import os\n",
    "\n",
    "pdf_dir = r\"pdf\"\n",
    "output_dir = r\"op\"\n",
    "os.makedirs(output_dir, exist_ok=True)\n",
    "for pdf_file in os.listdir(pdf_dir):\n",
    "    if pdf_file.endswith('.pdf'):\n",
    "        pdf_path = os.path.join(pdf_dir, pdf_file)\n",
    "        images = convert_from_path(pdf_path)\n",
    "        for i, image in enumerate(images):\n",
    "            image_path = os.path.join(output_dir, f'{os.path.splitext(pdf_file)[0]}_page_{i}.png')\n",
    "            image.save(image_path, 'PNG')\n",
    "            text = pt.image_to_string(image)\n",
    "            text_file = os.path.join(output_dir, f'{os.path.splitext(pdf_file)[0]}_page_{i}.txt')\n",
    "            with open(text_file, 'w', encoding='utf-8') as f:\n",
    "                f.write(text)\n",
    "            print(f\"Extracted text from {pdf_file}, page {i}\")\n",
    "print(\"Text extraction complete.\")"
   ]
  }
 ],
 "metadata": {
  "kernelspec": {
   "display_name": "Python 3",
   "language": "python",
   "name": "python3"
  },
  "language_info": {
   "codemirror_mode": {
    "name": "ipython",
    "version": 3
   },
   "file_extension": ".py",
   "mimetype": "text/x-python",
   "name": "python",
   "nbconvert_exporter": "python",
   "pygments_lexer": "ipython3",
   "version": "3.11.2"
  }
 },
 "nbformat": 4,
 "nbformat_minor": 2
}
